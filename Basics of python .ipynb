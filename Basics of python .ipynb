{
 "cells": [
  {
   "cell_type": "markdown",
   "id": "2de71286",
   "metadata": {},
   "source": [
    "# Exercise 1: Prime Numbers"
   ]
  },
  {
   "cell_type": "raw",
   "id": "709ff9cb",
   "metadata": {},
   "source": [
    "Write a Python program that checks whether a given number is prime or not. A prime number is a natural number greater than 1 that has no positive divisors other than 1 and itself."
   ]
  },
  {
   "cell_type": "code",
   "execution_count": 1,
   "id": "503f8c70",
   "metadata": {},
   "outputs": [
    {
     "name": "stdout",
     "output_type": "stream",
     "text": [
      "Enter a number: 3\n",
      "3 is a prime number\n"
     ]
    }
   ],
   "source": [
    "def is_prime(number):\n",
    "    # Check if the number is less than or equal to 1\n",
    "    if number <= 1:\n",
    "        return False  # Numbers less than or equal to 1 are not prime\n",
    "    \n",
    "    # Check for factors from 2 to sqrt(number)\n",
    "    for i in range(2, int(number**0.5) + 1):\n",
    "        if number % i == 0:\n",
    "            return False  # If 'number' is divisible by any number in this range, it's not prime\n",
    "    \n",
    "    return True  # If no factors were found, 'number' is prime\n",
    "\n",
    "# Test the function\n",
    "num = int(input(\"Enter a number: \"))\n",
    "\n",
    "if is_prime(num):\n",
    "    print(f\"{num} is a prime number\")\n",
    "else:\n",
    "    print(f\"{num} is not a prime number\")"
   ]
  },
  {
   "cell_type": "code",
   "execution_count": null,
   "id": "9d2a858c",
   "metadata": {},
   "outputs": [],
   "source": []
  },
  {
   "cell_type": "markdown",
   "id": "cb7e007a",
   "metadata": {},
   "source": [
    "# Exercise 2: Product of Random Numbers"
   ]
  },
  {
   "cell_type": "raw",
   "id": "31f1c889",
   "metadata": {},
   "source": [
    "Develop a Python program that generates two random numbers and asks the user to enter the product of these numbers. The program should then check if the user's answer is correct and display an appropriate message."
   ]
  },
  {
   "cell_type": "code",
   "execution_count": 2,
   "id": "f26fe941",
   "metadata": {},
   "outputs": [
    {
     "name": "stdout",
     "output_type": "stream",
     "text": [
      "Multiplying 4 and 10\n",
      "Enter the product of the two numbers: 40\n",
      "Correct! Well done.\n"
     ]
    }
   ],
   "source": [
    "import random\n",
    "\n",
    "def generate_random_numbers():\n",
    "    num1 = random.randint(1, 10)  # Generate a random integer between 1 and 10\n",
    "    num2 = random.randint(1, 10)  # Generate another random integer between 1 and 10\n",
    "    return num1, num2\n",
    "\n",
    "def get_user_answer():\n",
    "    try:\n",
    "        user_answer = int(input(\"Enter the product of the two numbers: \"))\n",
    "        return user_answer\n",
    "    except ValueError:\n",
    "        print(\"Invalid input. Please enter a valid integer.\")\n",
    "        return None\n",
    "\n",
    "def main():\n",
    "    num1, num2 = generate_random_numbers()\n",
    "    product = num1 * num2\n",
    "\n",
    "    print(f\"Multiplying {num1} and {num2}\")\n",
    "\n",
    "    user_answer = get_user_answer()\n",
    "\n",
    "    if user_answer is not None:\n",
    "        if user_answer == product:\n",
    "            print(\"Correct! Well done.\")\n",
    "        else:\n",
    "            print(f\"Wrong answer. The correct product is {product}.\")\n",
    "\n",
    "if __name__ == \"__main__\":\n",
    "    main()"
   ]
  },
  {
   "cell_type": "markdown",
   "id": "ca708a0b",
   "metadata": {},
   "source": [
    "# Exercise 3: Squares of Even/Odd Numbers"
   ]
  },
  {
   "cell_type": "raw",
   "id": "d9dd3dec",
   "metadata": {},
   "source": [
    "Create a Python script that prints the squares of all even or odd numbers within the range of 100 to 200. Choose either even or odd numbers and document your choice in the code."
   ]
  },
  {
   "cell_type": "raw",
   "id": "9be54a07",
   "metadata": {},
   "source": [
    "FOR EVEN "
   ]
  },
  {
   "cell_type": "code",
   "execution_count": 3,
   "id": "9c93f8ef",
   "metadata": {},
   "outputs": [
    {
     "name": "stdout",
     "output_type": "stream",
     "text": [
      "Squares of even numbers from 100 to 200:\n",
      "100^2 = 10000\n",
      "102^2 = 10404\n",
      "104^2 = 10816\n",
      "106^2 = 11236\n",
      "108^2 = 11664\n",
      "110^2 = 12100\n",
      "112^2 = 12544\n",
      "114^2 = 12996\n",
      "116^2 = 13456\n",
      "118^2 = 13924\n",
      "120^2 = 14400\n",
      "122^2 = 14884\n",
      "124^2 = 15376\n",
      "126^2 = 15876\n",
      "128^2 = 16384\n",
      "130^2 = 16900\n",
      "132^2 = 17424\n",
      "134^2 = 17956\n",
      "136^2 = 18496\n",
      "138^2 = 19044\n",
      "140^2 = 19600\n",
      "142^2 = 20164\n",
      "144^2 = 20736\n",
      "146^2 = 21316\n",
      "148^2 = 21904\n",
      "150^2 = 22500\n",
      "152^2 = 23104\n",
      "154^2 = 23716\n",
      "156^2 = 24336\n",
      "158^2 = 24964\n",
      "160^2 = 25600\n",
      "162^2 = 26244\n",
      "164^2 = 26896\n",
      "166^2 = 27556\n",
      "168^2 = 28224\n",
      "170^2 = 28900\n",
      "172^2 = 29584\n",
      "174^2 = 30276\n",
      "176^2 = 30976\n",
      "178^2 = 31684\n",
      "180^2 = 32400\n",
      "182^2 = 33124\n",
      "184^2 = 33856\n",
      "186^2 = 34596\n",
      "188^2 = 35344\n",
      "190^2 = 36100\n",
      "192^2 = 36864\n",
      "194^2 = 37636\n",
      "196^2 = 38416\n",
      "198^2 = 39204\n",
      "200^2 = 40000\n"
     ]
    }
   ],
   "source": [
    "def print_even_squares():\n",
    "    print(\"Squares of even numbers from 100 to 200:\")\n",
    "    for num in range(100, 201):  # Iterate over numbers from 100 to 200 (inclusive)\n",
    "        if num % 2 == 0:  # Check if the number is even\n",
    "            square = num ** 2  # Calculate the square of the even number\n",
    "            print(f\"{num}^2 = {square}\")\n",
    "\n",
    "# Call the function to print squares of even numbers\n",
    "print_even_squares()\n"
   ]
  },
  {
   "cell_type": "raw",
   "id": "b20a0677",
   "metadata": {},
   "source": [
    "FOR ODD"
   ]
  },
  {
   "cell_type": "code",
   "execution_count": 4,
   "id": "3bc64eea",
   "metadata": {},
   "outputs": [
    {
     "name": "stdout",
     "output_type": "stream",
     "text": [
      "Squares of odd numbers from 100 to 200:\n",
      "101^2 = 10201\n",
      "103^2 = 10609\n",
      "105^2 = 11025\n",
      "107^2 = 11449\n",
      "109^2 = 11881\n",
      "111^2 = 12321\n",
      "113^2 = 12769\n",
      "115^2 = 13225\n",
      "117^2 = 13689\n",
      "119^2 = 14161\n",
      "121^2 = 14641\n",
      "123^2 = 15129\n",
      "125^2 = 15625\n",
      "127^2 = 16129\n",
      "129^2 = 16641\n",
      "131^2 = 17161\n",
      "133^2 = 17689\n",
      "135^2 = 18225\n",
      "137^2 = 18769\n",
      "139^2 = 19321\n",
      "141^2 = 19881\n",
      "143^2 = 20449\n",
      "145^2 = 21025\n",
      "147^2 = 21609\n",
      "149^2 = 22201\n",
      "151^2 = 22801\n",
      "153^2 = 23409\n",
      "155^2 = 24025\n",
      "157^2 = 24649\n",
      "159^2 = 25281\n",
      "161^2 = 25921\n",
      "163^2 = 26569\n",
      "165^2 = 27225\n",
      "167^2 = 27889\n",
      "169^2 = 28561\n",
      "171^2 = 29241\n",
      "173^2 = 29929\n",
      "175^2 = 30625\n",
      "177^2 = 31329\n",
      "179^2 = 32041\n",
      "181^2 = 32761\n",
      "183^2 = 33489\n",
      "185^2 = 34225\n",
      "187^2 = 34969\n",
      "189^2 = 35721\n",
      "191^2 = 36481\n",
      "193^2 = 37249\n",
      "195^2 = 38025\n",
      "197^2 = 38809\n",
      "199^2 = 39601\n"
     ]
    }
   ],
   "source": [
    "def print_odd_squares():\n",
    "    print(\"Squares of odd numbers from 100 to 200:\")\n",
    "    for num in range(100, 201):  # Iterate over numbers from 100 to 200 (inclusive)\n",
    "        if num % 2 != 0:  # Check if the number is odd\n",
    "            square = num ** 2  # Calculate the square of the odd number\n",
    "            print(f\"{num}^2 = {square}\")\n",
    "\n",
    "# Call the function to print squares of odd numbers\n",
    "print_odd_squares()\n"
   ]
  },
  {
   "cell_type": "markdown",
   "id": "366f4142",
   "metadata": {},
   "source": [
    "# Exercise 4: Word counter"
   ]
  },
  {
   "cell_type": "raw",
   "id": "0125e291",
   "metadata": {},
   "source": [
    "write a program to count the number of words in a given text.\n",
    "example:\n",
    "input_text = \"This is a sample text. This text will be used to demonstrate the word counter.\"\n",
    "Expected output:\n",
    "'This': 2 \n",
    "'is': 1\n",
    "'a': 1\n",
    "'sample': 1\n",
    "'text.': 1\n"
   ]
  },
  {
   "cell_type": "code",
   "execution_count": 5,
   "id": "926efcf6",
   "metadata": {},
   "outputs": [
    {
     "name": "stdout",
     "output_type": "stream",
     "text": [
      "'my': 1\n",
      "'name': 1\n",
      "'is': 1\n",
      "'bhabani': 1\n",
      "'sankar': 1\n",
      "'barik': 1\n",
      "'and': 1\n",
      "'i': 1\n",
      "'am': 1\n",
      "'a': 1\n",
      "'data': 1\n",
      "'scientist': 1\n"
     ]
    }
   ],
   "source": [
    "def count_words(input_text):\n",
    "    # Convert the entire text to lowercase to treat words case-insensitively\n",
    "    input_text = input_text.lower()\n",
    "    \n",
    "    # Remove punctuation characters (like . , ! ?) from the text\n",
    "    # We'll consider words separated by spaces\n",
    "    # You can extend this to handle other punctuation marks if needed\n",
    "    input_text = input_text.replace('.', '').replace(',', '').replace('!', '').replace('?', '')\n",
    "\n",
    "    # Split the text into words based on spaces\n",
    "    words = input_text.split()\n",
    "\n",
    "    # Create a dictionary to count occurrences of each word\n",
    "    word_count = {}\n",
    "    for word in words:\n",
    "        if word in word_count:\n",
    "            word_count[word] += 1\n",
    "        else:\n",
    "            word_count[word] = 1\n",
    "\n",
    "    return word_count\n",
    "\n",
    "def main():\n",
    "    input_text = \"my name is Bhabani Sankar Barik and I am a data scientist.\"\n",
    "    word_counts = count_words(input_text)\n",
    "\n",
    "    # Print the word counts\n",
    "    for word, count in word_counts.items():\n",
    "        print(f\"'{word}': {count}\")\n",
    "\n",
    "if __name__ == \"__main__\":\n",
    "    main()\n"
   ]
  },
  {
   "cell_type": "code",
   "execution_count": null,
   "id": "99360880",
   "metadata": {},
   "outputs": [],
   "source": []
  },
  {
   "cell_type": "markdown",
   "id": "67043622",
   "metadata": {},
   "source": [
    "# Exercise 5: Check for Palindrome"
   ]
  },
  {
   "cell_type": "raw",
   "id": "80f95196",
   "metadata": {},
   "source": [
    "Write a Python function called is_palindrome that takes a string as input and returns True if the string is a palindrome, and False otherwise. A palindrome is a word, phrase, number, or other sequence of characters that reads the same forward and backward, ignoring spaces, punctuation, and capitalization."
   ]
  },
  {
   "cell_type": "code",
   "execution_count": 6,
   "id": "ab734dbd",
   "metadata": {},
   "outputs": [
    {
     "name": "stdout",
     "output_type": "stream",
     "text": [
      "False\n",
      "False\n",
      "False\n"
     ]
    }
   ],
   "source": [
    "def is_palindrome(s):\n",
    "    # Function to remove spaces and punctuation from the string\n",
    "    def clean_string(s):\n",
    "        # Define a set of punctuation characters to remove\n",
    "        punctuations = '''!()-[]{};:'\"\\,<>./?@#$%^&*_~'''\n",
    "        # Iterate over each character in the string and keep only alphanumeric characters\n",
    "        cleaned_string = ''.join(char for char in s if char.isalnum() or char == ' ')\n",
    "        # Remove spaces and convert to lowercase\n",
    "        cleaned_string = cleaned_string.replace(' ', '').lower()\n",
    "        return cleaned_string\n",
    "\n",
    "    # Clean the input string\n",
    "    cleaned_s = clean_string(s)\n",
    "\n",
    "    # Check if the cleaned string is equal to its reverse\n",
    "    return cleaned_s == cleaned_s[::-1]\n",
    "\n",
    "# Test the function with example inputs\n",
    "input_str1 = \"A cat, a dog, a girl, Panama\"\n",
    "input_str2 = \"tourist bus\"\n",
    "input_str3 = \"i am bhabani\"\n",
    "\n",
    "print(is_palindrome(input_str1))  # True\n",
    "print(is_palindrome(input_str2))  # True\n",
    "print(is_palindrome(input_str3))  # False\n"
   ]
  }
 ],
 "metadata": {
  "kernelspec": {
   "display_name": "Python 3 (ipykernel)",
   "language": "python",
   "name": "python3"
  },
  "language_info": {
   "codemirror_mode": {
    "name": "ipython",
    "version": 3
   },
   "file_extension": ".py",
   "mimetype": "text/x-python",
   "name": "python",
   "nbconvert_exporter": "python",
   "pygments_lexer": "ipython3",
   "version": "3.11.5"
  }
 },
 "nbformat": 4,
 "nbformat_minor": 5
}
